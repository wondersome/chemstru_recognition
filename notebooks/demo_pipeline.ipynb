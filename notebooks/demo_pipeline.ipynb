# Jupyter notebook demonstrating the full pipeline
# Chemical Structure Recognition Pipeline
This notebook demonstrates the full pipeline: extracting images from a PDF, segmenting potential chemical diagrams, and using a deep learning model to train and evaluate chemical structure classification.
